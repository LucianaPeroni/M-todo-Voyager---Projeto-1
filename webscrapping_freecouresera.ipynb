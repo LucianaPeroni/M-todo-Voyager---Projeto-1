{
  "nbformat": 4,
  "nbformat_minor": 0,
  "metadata": {
    "colab": {
      "name": "webscrapping_freecouresera.ipynb",
      "provenance": [],
      "collapsed_sections": [],
      "authorship_tag": "ABX9TyNovFMb0CbvvvTk2FVSsN+F",
      "include_colab_link": true
    },
    "kernelspec": {
      "name": "python3",
      "display_name": "Python 3"
    },
    "language_info": {
      "name": "python"
    }
  },
  "cells": [
    {
      "cell_type": "markdown",
      "metadata": {
        "id": "view-in-github",
        "colab_type": "text"
      },
      "source": [
        "<a href=\"https://colab.research.google.com/github/LucianaPeroni/Metodo-Voyager_Projeto1/blob/main/webscrapping_freecouresera.ipynb\" target=\"_parent\"><img src=\"https://colab.research.google.com/assets/colab-badge.svg\" alt=\"Open In Colab\"/></a>"
      ]
    },
    {
      "cell_type": "code",
      "execution_count": 1,
      "metadata": {
        "colab": {
          "base_uri": "https://localhost:8080/"
        },
        "id": "EyK7KFUitUfE",
        "outputId": "0efaa365-4ade-4e72-dc3b-4622f318b946"
      },
      "outputs": [
        {
          "output_type": "stream",
          "name": "stdout",
          "text": [
            "Looking in indexes: https://pypi.org/simple, https://us-python.pkg.dev/colab-wheels/public/simple/\n",
            "Requirement already satisfied: beautifulsoup4 in /usr/local/lib/python3.7/dist-packages (4.6.3)\n"
          ]
        }
      ],
      "source": [
        "pip install beautifulsoup4"
      ]
    },
    {
      "cell_type": "code",
      "source": [
        "pip install requests beautifulsoup4\n"
      ],
      "metadata": {
        "colab": {
          "base_uri": "https://localhost:8080/"
        },
        "id": "AmZi-JG6untS",
        "outputId": "8f38249a-6617-4ca7-efb7-0244564b3a2e"
      },
      "execution_count": 2,
      "outputs": [
        {
          "output_type": "stream",
          "name": "stdout",
          "text": [
            "Looking in indexes: https://pypi.org/simple, https://us-python.pkg.dev/colab-wheels/public/simple/\n",
            "Requirement already satisfied: requests in /usr/local/lib/python3.7/dist-packages (2.23.0)\n",
            "Requirement already satisfied: beautifulsoup4 in /usr/local/lib/python3.7/dist-packages (4.6.3)\n",
            "Requirement already satisfied: idna<3,>=2.5 in /usr/local/lib/python3.7/dist-packages (from requests) (2.10)\n",
            "Requirement already satisfied: urllib3!=1.25.0,!=1.25.1,<1.26,>=1.21.1 in /usr/local/lib/python3.7/dist-packages (from requests) (1.24.3)\n",
            "Requirement already satisfied: certifi>=2017.4.17 in /usr/local/lib/python3.7/dist-packages (from requests) (2022.5.18.1)\n",
            "Requirement already satisfied: chardet<4,>=3.0.2 in /usr/local/lib/python3.7/dist-packages (from requests) (3.0.4)\n"
          ]
        }
      ]
    },
    {
      "cell_type": "code",
      "source": [
        "import requests\n",
        "from bs4 import BeautifulSoup\n",
        "import pandas as pd\n",
        "from csv import writer\n"
      ],
      "metadata": {
        "id": "7ELCWabtutyl"
      },
      "execution_count": 3,
      "outputs": []
    },
    {
      "cell_type": "code",
      "source": [
        "!pip install selenium #resolve o webdriver\n",
        "!apt-get update \n",
        "!apt install chromium-chromedriver\n",
        "\n",
        "from selenium import webdriver\n",
        "chrome_options = webdriver.ChromeOptions()\n",
        "chrome_options.add_argument('--headless')\n",
        "chrome_options.add_argument('--no-sandbox')\n",
        "chrome_options.add_argument('--disable-dev-shm-usage')\n",
        "driver = webdriver.Chrome('chromedriver',chrome_options=chrome_options)"
      ],
      "metadata": {
        "colab": {
          "base_uri": "https://localhost:8080/",
          "height": 1000
        },
        "id": "ttcyfnqeuyGh",
        "outputId": "65a5a419-95dd-430e-f805-0c9d79b5e646"
      },
      "execution_count": 4,
      "outputs": [
        {
          "output_type": "stream",
          "name": "stdout",
          "text": [
            "Looking in indexes: https://pypi.org/simple, https://us-python.pkg.dev/colab-wheels/public/simple/\n",
            "Collecting selenium\n",
            "  Downloading selenium-4.1.5-py3-none-any.whl (979 kB)\n",
            "\u001b[K     |████████████████████████████████| 979 kB 7.2 MB/s \n",
            "\u001b[?25hCollecting trio-websocket~=0.9\n",
            "  Downloading trio_websocket-0.9.2-py3-none-any.whl (16 kB)\n",
            "Collecting urllib3[secure,socks]~=1.26\n",
            "  Downloading urllib3-1.26.9-py2.py3-none-any.whl (138 kB)\n",
            "\u001b[K     |████████████████████████████████| 138 kB 53.3 MB/s \n",
            "\u001b[?25hCollecting trio~=0.17\n",
            "  Downloading trio-0.20.0-py3-none-any.whl (359 kB)\n",
            "\u001b[K     |████████████████████████████████| 359 kB 55.3 MB/s \n",
            "\u001b[?25hRequirement already satisfied: attrs>=19.2.0 in /usr/local/lib/python3.7/dist-packages (from trio~=0.17->selenium) (21.4.0)\n",
            "Requirement already satisfied: idna in /usr/local/lib/python3.7/dist-packages (from trio~=0.17->selenium) (2.10)\n",
            "Requirement already satisfied: sortedcontainers in /usr/local/lib/python3.7/dist-packages (from trio~=0.17->selenium) (2.4.0)\n",
            "Collecting async-generator>=1.9\n",
            "  Downloading async_generator-1.10-py3-none-any.whl (18 kB)\n",
            "Collecting outcome\n",
            "  Downloading outcome-1.1.0-py2.py3-none-any.whl (9.7 kB)\n",
            "Collecting sniffio\n",
            "  Downloading sniffio-1.2.0-py3-none-any.whl (10 kB)\n",
            "Collecting wsproto>=0.14\n",
            "  Downloading wsproto-1.1.0-py3-none-any.whl (24 kB)\n",
            "Requirement already satisfied: PySocks!=1.5.7,<2.0,>=1.5.6 in /usr/local/lib/python3.7/dist-packages (from urllib3[secure,socks]~=1.26->selenium) (1.7.1)\n",
            "Collecting pyOpenSSL>=0.14\n",
            "  Downloading pyOpenSSL-22.0.0-py2.py3-none-any.whl (55 kB)\n",
            "\u001b[K     |████████████████████████████████| 55 kB 4.5 MB/s \n",
            "\u001b[?25hCollecting cryptography>=1.3.4\n",
            "  Downloading cryptography-37.0.2-cp36-abi3-manylinux_2_24_x86_64.whl (4.0 MB)\n",
            "\u001b[K     |████████████████████████████████| 4.0 MB 44.7 MB/s \n",
            "\u001b[?25hRequirement already satisfied: certifi in /usr/local/lib/python3.7/dist-packages (from urllib3[secure,socks]~=1.26->selenium) (2022.5.18.1)\n",
            "Requirement already satisfied: cffi>=1.12 in /usr/local/lib/python3.7/dist-packages (from cryptography>=1.3.4->urllib3[secure,socks]~=1.26->selenium) (1.15.0)\n",
            "Requirement already satisfied: pycparser in /usr/local/lib/python3.7/dist-packages (from cffi>=1.12->cryptography>=1.3.4->urllib3[secure,socks]~=1.26->selenium) (2.21)\n",
            "Collecting h11<1,>=0.9.0\n",
            "  Downloading h11-0.13.0-py3-none-any.whl (58 kB)\n",
            "\u001b[K     |████████████████████████████████| 58 kB 6.6 MB/s \n",
            "\u001b[?25hRequirement already satisfied: typing-extensions in /usr/local/lib/python3.7/dist-packages (from h11<1,>=0.9.0->wsproto>=0.14->trio-websocket~=0.9->selenium) (4.2.0)\n",
            "Installing collected packages: sniffio, outcome, h11, cryptography, async-generator, wsproto, urllib3, trio, pyOpenSSL, trio-websocket, selenium\n",
            "  Attempting uninstall: urllib3\n",
            "    Found existing installation: urllib3 1.24.3\n",
            "    Uninstalling urllib3-1.24.3:\n",
            "      Successfully uninstalled urllib3-1.24.3\n",
            "\u001b[31mERROR: pip's dependency resolver does not currently take into account all the packages that are installed. This behaviour is the source of the following dependency conflicts.\n",
            "requests 2.23.0 requires urllib3!=1.25.0,!=1.25.1,<1.26,>=1.21.1, but you have urllib3 1.26.9 which is incompatible.\n",
            "datascience 0.10.6 requires folium==0.2.1, but you have folium 0.8.3 which is incompatible.\u001b[0m\n",
            "Successfully installed async-generator-1.10 cryptography-37.0.2 h11-0.13.0 outcome-1.1.0 pyOpenSSL-22.0.0 selenium-4.1.5 sniffio-1.2.0 trio-0.20.0 trio-websocket-0.9.2 urllib3-1.26.9 wsproto-1.1.0\n"
          ]
        },
        {
          "output_type": "display_data",
          "data": {
            "application/vnd.colab-display-data+json": {
              "pip_warning": {
                "packages": [
                  "urllib3"
                ]
              }
            }
          },
          "metadata": {}
        },
        {
          "output_type": "stream",
          "name": "stdout",
          "text": [
            "\r0% [Working]\r            \rGet:1 https://developer.download.nvidia.com/compute/cuda/repos/ubuntu1804/x86_64  InRelease [1,581 B]\n",
            "\r0% [Connecting to archive.ubuntu.com (91.189.91.38)] [Connecting to security.ub\r0% [Connecting to archive.ubuntu.com (91.189.91.38)] [Connecting to security.ub\r0% [1 InRelease gpgv 1,581 B] [Connecting to archive.ubuntu.com (91.189.91.38)]\r                                                                               \rGet:2 https://cloud.r-project.org/bin/linux/ubuntu bionic-cran40/ InRelease [3,626 B]\n",
            "\r                                                                               \rIgn:3 https://developer.download.nvidia.com/compute/machine-learning/repos/ubuntu1804/x86_64  InRelease\n",
            "\r0% [1 InRelease gpgv 1,581 B] [Connecting to archive.ubuntu.com (91.189.91.38)]\r                                                                               \rHit:4 https://developer.download.nvidia.com/compute/machine-learning/repos/ubuntu1804/x86_64  Release\n",
            "Hit:5 http://archive.ubuntu.com/ubuntu bionic InRelease\n",
            "Get:6 https://developer.download.nvidia.com/compute/cuda/repos/ubuntu1804/x86_64  Packages [787 kB]\n",
            "Get:7 http://archive.ubuntu.com/ubuntu bionic-updates InRelease [88.7 kB]\n",
            "Get:8 http://security.ubuntu.com/ubuntu bionic-security InRelease [88.7 kB]\n",
            "Hit:9 http://ppa.launchpad.net/c2d4u.team/c2d4u4.0+/ubuntu bionic InRelease\n",
            "Get:10 http://archive.ubuntu.com/ubuntu bionic-backports InRelease [74.6 kB]\n",
            "Hit:12 http://ppa.launchpad.net/cran/libgit2/ubuntu bionic InRelease\n",
            "Get:13 http://ppa.launchpad.net/deadsnakes/ppa/ubuntu bionic InRelease [15.9 kB]\n",
            "Get:14 http://archive.ubuntu.com/ubuntu bionic-updates/multiverse amd64 Packages [29.8 kB]\n",
            "Get:15 http://archive.ubuntu.com/ubuntu bionic-updates/universe amd64 Packages [2,278 kB]\n",
            "Get:16 http://ppa.launchpad.net/graphics-drivers/ppa/ubuntu bionic InRelease [21.3 kB]\n",
            "Get:17 http://archive.ubuntu.com/ubuntu bionic-updates/restricted amd64 Packages [983 kB]\n",
            "Get:18 http://archive.ubuntu.com/ubuntu bionic-updates/main amd64 Packages [3,214 kB]\n",
            "Get:19 http://security.ubuntu.com/ubuntu bionic-security/universe amd64 Packages [1,503 kB]\n",
            "Get:20 http://ppa.launchpad.net/deadsnakes/ppa/ubuntu bionic/main amd64 Packages [45.3 kB]\n",
            "Get:21 http://security.ubuntu.com/ubuntu bionic-security/restricted amd64 Packages [949 kB]\n",
            "Get:22 http://security.ubuntu.com/ubuntu bionic-security/main amd64 Packages [2,779 kB]\n",
            "Get:23 http://security.ubuntu.com/ubuntu bionic-security/multiverse amd64 Packages [22.8 kB]\n",
            "Get:24 http://ppa.launchpad.net/graphics-drivers/ppa/ubuntu bionic/main amd64 Packages [44.3 kB]\n",
            "Fetched 12.9 MB in 3s (3,935 kB/s)\n",
            "Reading package lists... Done\n",
            "Reading package lists... Done\n",
            "Building dependency tree       \n",
            "Reading state information... Done\n",
            "The following package was automatically installed and is no longer required:\n",
            "  libnvidia-common-460\n",
            "Use 'apt autoremove' to remove it.\n",
            "The following additional packages will be installed:\n",
            "  chromium-browser chromium-browser-l10n chromium-codecs-ffmpeg-extra\n",
            "Suggested packages:\n",
            "  webaccounts-chromium-extension unity-chromium-extension\n",
            "The following NEW packages will be installed:\n",
            "  chromium-browser chromium-browser-l10n chromium-chromedriver\n",
            "  chromium-codecs-ffmpeg-extra\n",
            "0 upgraded, 4 newly installed, 0 to remove and 56 not upgraded.\n",
            "Need to get 89.8 MB of archives.\n",
            "After this operation, 302 MB of additional disk space will be used.\n",
            "Get:1 http://archive.ubuntu.com/ubuntu bionic-updates/universe amd64 chromium-codecs-ffmpeg-extra amd64 101.0.4951.64-0ubuntu0.18.04.1 [1,142 kB]\n",
            "Get:2 http://archive.ubuntu.com/ubuntu bionic-updates/universe amd64 chromium-browser amd64 101.0.4951.64-0ubuntu0.18.04.1 [78.5 MB]\n",
            "Get:3 http://archive.ubuntu.com/ubuntu bionic-updates/universe amd64 chromium-browser-l10n all 101.0.4951.64-0ubuntu0.18.04.1 [4,980 kB]\n",
            "Get:4 http://archive.ubuntu.com/ubuntu bionic-updates/universe amd64 chromium-chromedriver amd64 101.0.4951.64-0ubuntu0.18.04.1 [5,153 kB]\n",
            "Fetched 89.8 MB in 3s (29.7 MB/s)\n",
            "Selecting previously unselected package chromium-codecs-ffmpeg-extra.\n",
            "(Reading database ... 155629 files and directories currently installed.)\n",
            "Preparing to unpack .../chromium-codecs-ffmpeg-extra_101.0.4951.64-0ubuntu0.18.04.1_amd64.deb ...\n",
            "Unpacking chromium-codecs-ffmpeg-extra (101.0.4951.64-0ubuntu0.18.04.1) ...\n",
            "Selecting previously unselected package chromium-browser.\n",
            "Preparing to unpack .../chromium-browser_101.0.4951.64-0ubuntu0.18.04.1_amd64.deb ...\n",
            "Unpacking chromium-browser (101.0.4951.64-0ubuntu0.18.04.1) ...\n",
            "Selecting previously unselected package chromium-browser-l10n.\n",
            "Preparing to unpack .../chromium-browser-l10n_101.0.4951.64-0ubuntu0.18.04.1_all.deb ...\n",
            "Unpacking chromium-browser-l10n (101.0.4951.64-0ubuntu0.18.04.1) ...\n",
            "Selecting previously unselected package chromium-chromedriver.\n",
            "Preparing to unpack .../chromium-chromedriver_101.0.4951.64-0ubuntu0.18.04.1_amd64.deb ...\n",
            "Unpacking chromium-chromedriver (101.0.4951.64-0ubuntu0.18.04.1) ...\n",
            "Setting up chromium-codecs-ffmpeg-extra (101.0.4951.64-0ubuntu0.18.04.1) ...\n",
            "Setting up chromium-browser (101.0.4951.64-0ubuntu0.18.04.1) ...\n",
            "update-alternatives: using /usr/bin/chromium-browser to provide /usr/bin/x-www-browser (x-www-browser) in auto mode\n",
            "update-alternatives: using /usr/bin/chromium-browser to provide /usr/bin/gnome-www-browser (gnome-www-browser) in auto mode\n",
            "Setting up chromium-chromedriver (101.0.4951.64-0ubuntu0.18.04.1) ...\n",
            "Setting up chromium-browser-l10n (101.0.4951.64-0ubuntu0.18.04.1) ...\n",
            "Processing triggers for man-db (2.8.3-2ubuntu0.1) ...\n",
            "Processing triggers for hicolor-icon-theme (0.17-2) ...\n",
            "Processing triggers for mime-support (3.60ubuntu1) ...\n",
            "Processing triggers for libc-bin (2.27-3ubuntu1.3) ...\n",
            "/sbin/ldconfig.real: /usr/local/lib/python3.7/dist-packages/ideep4py/lib/libmkldnn.so.0 is not a symbolic link\n",
            "\n"
          ]
        },
        {
          "output_type": "stream",
          "name": "stderr",
          "text": [
            "/usr/local/lib/python3.7/dist-packages/ipykernel_launcher.py:10: DeprecationWarning: use options instead of chrome_options\n",
            "  # Remove the CWD from sys.path while we load stuff.\n"
          ]
        }
      ]
    },
    {
      "cell_type": "code",
      "source": [
        "url='https://pt.coursera.org/courses?query=free'\n",
        "page=requests.get(url)\n",
        "print(page)"
      ],
      "metadata": {
        "colab": {
          "base_uri": "https://localhost:8080/"
        },
        "id": "BAXKoTy9u00B",
        "outputId": "7e5e9080-1c94-4d4d-9a66-a21d1e2b35cb"
      },
      "execution_count": 5,
      "outputs": [
        {
          "output_type": "stream",
          "name": "stdout",
          "text": [
            "<Response [200]>\n"
          ]
        }
      ]
    },
    {
      "cell_type": "code",
      "source": [
        "driver = webdriver.Chrome('chromedriver',chrome_options=chrome_options)\n"
      ],
      "metadata": {
        "colab": {
          "base_uri": "https://localhost:8080/"
        },
        "id": "Xp6Ojv6WxzTN",
        "outputId": "d7cfec85-6b52-4268-dd53-bfcd18dbad00"
      },
      "execution_count": 6,
      "outputs": [
        {
          "output_type": "stream",
          "name": "stderr",
          "text": [
            "/usr/local/lib/python3.7/dist-packages/ipykernel_launcher.py:1: DeprecationWarning: use options instead of chrome_options\n",
            "  \"\"\"Entry point for launching an IPython kernel.\n"
          ]
        }
      ]
    },
    {
      "cell_type": "code",
      "source": [
        "soup = BeautifulSoup(page.content, 'html.parser')"
      ],
      "metadata": {
        "id": "VywWGt8DzTmX"
      },
      "execution_count": 10,
      "outputs": []
    },
    {
      "cell_type": "code",
      "source": [
        "lists=soup.find_all('li',class_='cds-1 css-0 cds-3 cds-grid-item cds-48 cds-56 cds-68')#'ais-InstantSearch__root')"
      ],
      "metadata": {
        "id": "SF9GimTMzY8p"
      },
      "execution_count": 21,
      "outputs": []
    },
    {
      "cell_type": "code",
      "source": [
        "for list in lists:\n",
        "  titlecourse=list.find('h2',class_='cds-111 css-cru2ji cds-113')#.text.replace('\\n','')\n",
        "  habilities=list.find('p',class_='cds-111 css-z4vnns cds-113').text.replace('\\n','')\n",
        "  partner=list.find('p',class_='cds-111 css-1cxz0bb cds-113')#.text.replace('\\n','')\n",
        "  rating=list.find('p',class_='cds-111 css-1hb1zhk cds-113')#.text.replace('\\n','')\n",
        "  info=[titlecourse,partner,rating,habilities]\n",
        "  print(info)"
      ],
      "metadata": {
        "colab": {
          "base_uri": "https://localhost:8080/"
        },
        "id": "lM6r4J_J0Nye",
        "outputId": "2c4e165f-846c-44c9-89de-cae6a2a585eb"
      },
      "execution_count": 30,
      "outputs": [
        {
          "output_type": "stream",
          "name": "stdout",
          "text": [
            "[<h2 class=\"cds-111 css-cru2ji cds-113\">Machine Learning</h2>, <p class=\"cds-111 css-1cxz0bb cds-113\">Stanford University</p>, <p class=\"cds-111 css-1hb1zhk cds-113\">4.9</p>, 'Habilidades que você terá: Econometrics, Machine Learning, Theoretical Computer Science, Other Programming Languages, Linear Algebra, General Statistics, Probability & Statistics, Support Vector Machine, Computer Networking, Mathematics, Computer Programming, Probability Distribution, Dimensionality Reduction, Applied Machine Learning, Network Security, Data Mining, Artificial Neural Networks, Calculus, Statistical Machine Learning, Distributed Computing Architecture, Computer Architecture, Data Analysis, Security Engineering, Natural Language Processing, Estimation, Machine Learning Algorithms, Geostatistics, Computer Vision, Differential Equations, Algorithms, Regression, Feature Engineering, Deep Learning, Data Analysis Software']\n",
            "[<h2 class=\"cds-111 css-cru2ji cds-113\">Indigenous Canada</h2>, <p class=\"cds-111 css-1cxz0bb cds-113\">University of Alberta</p>, <p class=\"cds-111 css-1hb1zhk cds-113\">4.8</p>, 'Habilidades que você terá: Theoretical Computer Science, History, Culture, Leadership and Management, Storytelling, Business Psychology, Marketing, Creativity, Research and Design, Communication, Entrepreneurship, Finance, Algorithms']\n",
            "[<h2 class=\"cds-111 css-cru2ji cds-113\">Financial Markets</h2>, <p class=\"cds-111 css-1cxz0bb cds-113\">Yale University</p>, <p class=\"cds-111 css-1hb1zhk cds-113\">4.8</p>, 'Habilidades que você terá: Statistical Tests, Financial Markets, Market (Economics), Probability & Statistics, Accounting, Entrepreneurship, Business Analysis, Investment Management, Data Analysis, Financial Analysis, Strategy and Operations, Risk Management, Behavioral Economics, Corporate Accouting, Business Process Management, Business Psychology, Regulations and Compliance, Finance']\n",
            "[<h2 class=\"cds-111 css-cru2ji cds-113\">The Science of Well-Being</h2>, <p class=\"cds-111 css-1cxz0bb cds-113\">Yale University</p>, <p class=\"cds-111 css-1hb1zhk cds-113\">4.9</p>, 'Habilidades que você terá: Gratitude, Meditation, Planning']\n",
            "[<h2 class=\"cds-111 css-cru2ji cds-113\">Introduction to Psychology</h2>, <p class=\"cds-111 css-1cxz0bb cds-113\">Yale University</p>, <p class=\"cds-111 css-1hb1zhk cds-113\">4.9</p>, 'Habilidades que você terá: Psychology, Behavior, Business Psychology, Psychologies']\n",
            "[<h2 class=\"cds-111 css-cru2ji cds-113\">Writing in the Sciences</h2>, <p class=\"cds-111 css-1cxz0bb cds-113\">Stanford University</p>, <p class=\"cds-111 css-1hb1zhk cds-113\">4.9</p>, 'Habilidades que você terá: Communication, Writing']\n",
            "[<h2 class=\"cds-111 css-cru2ji cds-113\">Introduction to Statistics</h2>, <p class=\"cds-111 css-1cxz0bb cds-113\">Stanford University</p>, <p class=\"cds-111 css-1hb1zhk cds-113\">4.5</p>, 'Habilidades que você terá: General Statistics, Econometrics, Bayesian Statistics, Probability & Statistics, Probability Distribution, Statistical Tests, Statistical Analysis, Machine Learning, Experiment, Data Analysis, Basic Descriptive Statistics, Markov Model, Analysis, Regression, Probability']\n",
            "[<h2 class=\"cds-111 css-cru2ji cds-113\">Stanford Introduction to Food and Health</h2>, <p class=\"cds-111 css-1cxz0bb cds-113\">Stanford University</p>, <p class=\"cds-111 css-1hb1zhk cds-113\">4.7</p>, 'Habilidades que você terá: Label, Nutrition, Choice']\n",
            "[<h2 class=\"cds-111 css-cru2ji cds-113\">Brand Management: Aligning Business, Brand and Behaviour</h2>, <p class=\"cds-111 css-1cxz0bb cds-113\">University of London</p>, <p class=\"cds-111 css-1hb1zhk cds-113\">4.9</p>, 'Habilidades que você terá: Employment, Stock, Strategy and Operations, Brand Management, Customer Success, Marketing, Leadership and Management, Customer Relationship Management, Brand, Sales, Finance']\n",
            "[<h2 class=\"cds-111 css-cru2ji cds-113\">Successful Negotiation: Essential Strategies and Skills</h2>, <p class=\"cds-111 css-1cxz0bb cds-113\">University of Michigan</p>, <p class=\"cds-111 css-1hb1zhk cds-113\">4.8</p>, 'Habilidades que você terá: Negotiation, Marketing, Communication, Sales']\n",
            "[<h2 class=\"cds-111 css-cru2ji cds-113\">Agile with Atlassian Jira</h2>, <p class=\"cds-111 css-1cxz0bb cds-113\">Atlassian</p>, <p class=\"cds-111 css-1hb1zhk cds-113\">4.7</p>, 'Habilidades que você terá: Software Testing, Software Engineering, Communication, Strategy and Operations, Project Management, Leadership and Management, Agile Management, Supply Chain and Logistics, Software, Operations Management, Agile Software Development']\n",
            "[<h2 class=\"cds-111 css-cru2ji cds-113\">Private Equity and Venture Capital</h2>, <p class=\"cds-111 css-1cxz0bb cds-113\">Università Bocconi</p>, <p class=\"cds-111 css-1hb1zhk cds-113\">4.8</p>, 'Habilidades que você terá: Stock, Accounting, Investment Management, Finance']\n"
          ]
        }
      ]
    },
    {
      "cell_type": "code",
      "source": [
        "#export csv\n",
        "with open('freecoursera.csv','w',encoding='utf-8', newline='') as f:\n",
        "  thewriter= writer(f)\n",
        "  header=['Title','Partner','Rating','Habilities']\n",
        "  thewriter.writerow(header)\n",
        "  for list in lists:\n",
        "   titlecourse=list.find('h2',class_='cds-111 css-cru2ji cds-113').text.replace('\\n','')\n",
        "   habilities=list.find('p',class_='cds-111 css-z4vnns cds-113').text.replace('\\n','')\n",
        "   partner=list.find('p',class_='cds-111 css-1cxz0bb cds-113').text.replace('\\n','')\n",
        "   rating=list.find('p',class_='cds-111 css-1hb1zhk cds-113').text.replace('\\n','')\n",
        "   info=[titlecourse,partner,rating,habilities]\n",
        "   thewriter.writerow(info)"
      ],
      "metadata": {
        "id": "MghZZ3sanT9I"
      },
      "execution_count": 35,
      "outputs": []
    },
    {
      "cell_type": "code",
      "source": [
        ""
      ],
      "metadata": {
        "id": "kIBESY5PEDgM"
      },
      "execution_count": null,
      "outputs": []
    }
  ]
}